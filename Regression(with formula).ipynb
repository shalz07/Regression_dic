{
 "cells": [
  {
   "cell_type": "code",
   "execution_count": 5,
   "metadata": {},
   "outputs": [
    {
     "name": "stdout",
     "output_type": "stream",
     "text": [
      "mean of x: 1522.2142857142858\n",
      "mean of y 85.15928571428572\n",
      "covariance of x,y: 320628.2421428571\n",
      "Slope(m) :  0.035577929493154976\n",
      "Intercept(c) :  31.002053183669595\n",
      "Equation:y= 0.035577929493154976 x + 31.002053183669595\n"
     ]
    },
    {
     "data": {
      "image/png": "[encoded data removed]",
      "text/plain": [
       "<Figure size 432x288 with 1 Axes>"
      ]
     },
     "metadata": {
      "needs_background": "light"
     },
     "output_type": "display_data"
    }
   ],
   "source": [
    "import pandas as pd\n",
    "import numpy as np\n",
    "import matplotlib.pyplot as plt\n",
    "from sklearn.linear_model import LinearRegression\n",
    "import math\n",
    "\n",
    "Area=[531,770,779,840,933,1233,1473,1559,1633,1706,1933,1983,2133,3805]\n",
    "Price=[49.1,56.85,60,62.22,65,63,85.56,78.5,78,103,100,98,135,158]\n",
    "\n",
    "def mean(x):\n",
    "    sum = 0.0\n",
    "    for i in x:\n",
    "         sum+=i\n",
    "    return float(sum/len(x)) \n",
    "    sum_v = 0.0\n",
    "    for i in x:\n",
    "         sum_v+=(i-mean(x))**2\n",
    "    return sum_v\n",
    "def covariance(x,y):\n",
    "    cov_xy = []\n",
    "    for i,j in zip(x,y):\n",
    "        x1 = i-mean(x)\n",
    "        y1 = j-mean(y)\n",
    "        cov_xy.append(x1*y1)\n",
    "    cov = sum(cov_xy)   \n",
    "    return cov\n",
    "def slope(x, y):\n",
    "    slope = (covariance(x,y))/(variance(x))\n",
    "    return slope\n",
    "def Intercept(x, y):\n",
    "    c = mean(y)-(slope(x,y)*mean(x))\n",
    "    return c\n",
    "m=slope(Area,Price)\n",
    "c=Intercept(Area,Price)\n",
    "print(\"mean of x:\",mean(Area))\n",
    "print(\"mean of y\",mean(Price))\n",
    "print(\"covariance of x,y:\",covariance(Area,Price))\n",
    "print(\"Slope(m) : \",m)\n",
    "print(\"Intercept(c) : \",c)\n",
    "print(\"Equation:y=\",m,\"x +\",c)\n",
    "\n",
    "#scatter plot with linear line\n",
    "max_x = np.max(Area) + 100\n",
    "min_x = np.min(Price) - 100\n",
    "rx = np.linspace(min_x, max_x, 1000)\n",
    "ry = c + m * rx \n",
    "plt.plot(rx, ry, color='red', label='Regression Line')\n",
    "plt.scatter(Area, Price, c='black', label='Scatter Plot')\n",
    "plt.xlabel('Area')\n",
    "plt.ylabel('Price')\n",
    "plt.legend()\n",
    "plt.show()\n"
   ]
  },
  {
   "cell_type": "code",
   "execution_count": 8,
   "metadata": {},
   "outputs": [
    {
     "name": "stdout",
     "output_type": "stream",
     "text": [
      "Price for Built-up Area of 1000 : 66.57998267682457  (inLakhs)\n"
     ]
    }
   ],
   "source": [
    "#Built-up area =1000\n",
    "x=1000\n",
    "price=m*x+c\n",
    "print(\"Price for Built-up Area of 1000 :\",price,\" (inLakhs)\")"
   ]
  },
  {
   "cell_type": "code",
   "execution_count": null,
   "metadata": {},
   "outputs": [],
   "source": []
  }
 ],
 "metadata": {
  "kernelspec": {
   "display_name": "Python 3",
   "language": "python",
   "name": "python3"
  },
  "language_info": {
   "codemirror_mode": {
    "name": "ipython",
    "version": 3
   },
   "file_extension": ".py",
   "mimetype": "text/x-python",
   "name": "python",
   "nbconvert_exporter": "python",
   "pygments_lexer": "ipython3",
   "version": "3.7.1"
  }
 },
 "nbformat": 4,
 "nbformat_minor": 2
}
